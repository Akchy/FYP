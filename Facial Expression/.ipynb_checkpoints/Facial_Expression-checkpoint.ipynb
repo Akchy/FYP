{
 "cells": [
  {
   "cell_type": "code",
   "execution_count": null,
   "metadata": {
    "colab": {
     "base_uri": "https://localhost:8080/"
    },
    "id": "47BdhaM33A-M",
    "outputId": "4d5b9084-57eb-4f42-fabb-be558b3a8a86"
   },
   "outputs": [
    {
     "name": "stdout",
     "output_type": "stream",
     "text": [
      "Mounted at /content/drive\n"
     ]
    }
   ],
   "source": [
    "from google.colab import drive\n",
    "drive.mount('/content/drive')"
   ]
  },
  {
   "cell_type": "code",
   "execution_count": null,
   "metadata": {
    "colab": {
     "base_uri": "https://localhost:8080/"
    },
    "id": "eDUZRUg636t0",
    "outputId": "982462c5-83f5-48df-c405-90af326e1be5"
   },
   "outputs": [
    {
     "name": "stdout",
     "output_type": "stream",
     "text": [
      "/content/drive/MyDrive/Kaggle\n"
     ]
    }
   ],
   "source": [
    "import os\n",
    "os.environ['KAGGLE_CONFIG_DIR'] = \"/content/drive/MyDrive/Kaggle\"\n",
    "%cd /content/drive/MyDrive/Kaggle"
   ]
  },
  {
   "cell_type": "code",
   "execution_count": null,
   "metadata": {
    "id": "TopoAbff39Df"
   },
   "outputs": [],
   "source": [
    "import numpy as np # linear algebra\n",
    "import pandas as pd # data processing, CSV file I/O (e.g. pd.read_csv)"
   ]
  },
  {
   "cell_type": "code",
   "execution_count": null,
   "metadata": {
    "id": "Kd84aLJP4Axy"
   },
   "outputs": [],
   "source": [
    "import tensorflow as tf\n",
    "\n",
    "import keras\n",
    "from keras.models import Sequential\n",
    "from keras.layers import Conv2D, MaxPooling2D, AveragePooling2D\n",
    "from keras.layers import Dense, Activation, Dropout, Flatten\n",
    "\n",
    "from keras.preprocessing import image\n",
    "from keras.preprocessing.image import ImageDataGenerator\n",
    "import pandas as pd\n",
    "import numpy as np\n",
    "import matplotlib.pyplot as plt\n",
    "import seaborn as sns\n",
    "from keras.utils import np_utils\n",
    "\n",
    "from sklearn.model_selection import train_test_split\n",
    "from sklearn.preprocessing import LabelEncoder\n",
    "from sklearn.metrics import classification_report\n"
   ]
  },
  {
   "cell_type": "code",
   "execution_count": null,
   "metadata": {
    "colab": {
     "base_uri": "https://localhost:8080/",
     "height": 363
    },
    "id": "v-P6PfZB4M6K",
    "outputId": "df5a4ffd-b40f-4947-9a45-784dc9e80b0b"
   },
   "outputs": [
    {
     "data": {
      "text/html": [
       "<div>\n",
       "<style scoped>\n",
       "    .dataframe tbody tr th:only-of-type {\n",
       "        vertical-align: middle;\n",
       "    }\n",
       "\n",
       "    .dataframe tbody tr th {\n",
       "        vertical-align: top;\n",
       "    }\n",
       "\n",
       "    .dataframe thead th {\n",
       "        text-align: right;\n",
       "    }\n",
       "</style>\n",
       "<table border=\"1\" class=\"dataframe\">\n",
       "  <thead>\n",
       "    <tr style=\"text-align: right;\">\n",
       "      <th></th>\n",
       "      <th>emotion</th>\n",
       "      <th>pixels</th>\n",
       "      <th>Usage</th>\n",
       "    </tr>\n",
       "  </thead>\n",
       "  <tbody>\n",
       "    <tr>\n",
       "      <th>0</th>\n",
       "      <td>0</td>\n",
       "      <td>70 80 82 72 58 58 60 63 54 58 60 48 89 115 121...</td>\n",
       "      <td>Training</td>\n",
       "    </tr>\n",
       "    <tr>\n",
       "      <th>1</th>\n",
       "      <td>0</td>\n",
       "      <td>151 150 147 155 148 133 111 140 170 174 182 15...</td>\n",
       "      <td>Training</td>\n",
       "    </tr>\n",
       "    <tr>\n",
       "      <th>2</th>\n",
       "      <td>2</td>\n",
       "      <td>231 212 156 164 174 138 161 173 182 200 106 38...</td>\n",
       "      <td>Training</td>\n",
       "    </tr>\n",
       "    <tr>\n",
       "      <th>3</th>\n",
       "      <td>4</td>\n",
       "      <td>24 32 36 30 32 23 19 20 30 41 21 22 32 34 21 1...</td>\n",
       "      <td>Training</td>\n",
       "    </tr>\n",
       "    <tr>\n",
       "      <th>4</th>\n",
       "      <td>6</td>\n",
       "      <td>4 0 0 0 0 0 0 0 0 0 0 0 3 15 23 28 48 50 58 84...</td>\n",
       "      <td>Training</td>\n",
       "    </tr>\n",
       "    <tr>\n",
       "      <th>5</th>\n",
       "      <td>2</td>\n",
       "      <td>55 55 55 55 55 54 60 68 54 85 151 163 170 179 ...</td>\n",
       "      <td>Training</td>\n",
       "    </tr>\n",
       "    <tr>\n",
       "      <th>6</th>\n",
       "      <td>4</td>\n",
       "      <td>20 17 19 21 25 38 42 42 46 54 56 62 63 66 82 1...</td>\n",
       "      <td>Training</td>\n",
       "    </tr>\n",
       "    <tr>\n",
       "      <th>7</th>\n",
       "      <td>3</td>\n",
       "      <td>77 78 79 79 78 75 60 55 47 48 58 73 77 79 57 5...</td>\n",
       "      <td>Training</td>\n",
       "    </tr>\n",
       "    <tr>\n",
       "      <th>8</th>\n",
       "      <td>3</td>\n",
       "      <td>85 84 90 121 101 102 133 153 153 169 177 189 1...</td>\n",
       "      <td>Training</td>\n",
       "    </tr>\n",
       "    <tr>\n",
       "      <th>9</th>\n",
       "      <td>2</td>\n",
       "      <td>255 254 255 254 254 179 122 107 95 124 149 150...</td>\n",
       "      <td>Training</td>\n",
       "    </tr>\n",
       "  </tbody>\n",
       "</table>\n",
       "</div>"
      ],
      "text/plain": [
       "   emotion                                             pixels     Usage\n",
       "0        0  70 80 82 72 58 58 60 63 54 58 60 48 89 115 121...  Training\n",
       "1        0  151 150 147 155 148 133 111 140 170 174 182 15...  Training\n",
       "2        2  231 212 156 164 174 138 161 173 182 200 106 38...  Training\n",
       "3        4  24 32 36 30 32 23 19 20 30 41 21 22 32 34 21 1...  Training\n",
       "4        6  4 0 0 0 0 0 0 0 0 0 0 0 3 15 23 28 48 50 58 84...  Training\n",
       "5        2  55 55 55 55 55 54 60 68 54 85 151 163 170 179 ...  Training\n",
       "6        4  20 17 19 21 25 38 42 42 46 54 56 62 63 66 82 1...  Training\n",
       "7        3  77 78 79 79 78 75 60 55 47 48 58 73 77 79 57 5...  Training\n",
       "8        3  85 84 90 121 101 102 133 153 153 169 177 189 1...  Training\n",
       "9        2  255 254 255 254 254 179 122 107 95 124 149 150...  Training"
      ]
     },
     "execution_count": 5,
     "metadata": {
      "tags": []
     },
     "output_type": "execute_result"
    }
   ],
   "source": [
    "#filename = 'fer2013.csv'\n",
    "#label_map = ['Anger', 'Disgust', 'Fear', 'Happy', 'Sad', 'Surprise', 'Neutral']\n",
    "#names=['emotion','pixels','usage']\n",
    "df=pd.read_csv('fer2013.csv')\n",
    "im=df['pixels']\n",
    "df.head(10)"
   ]
  },
  {
   "cell_type": "code",
   "execution_count": null,
   "metadata": {
    "colab": {
     "base_uri": "https://localhost:8080/"
    },
    "id": "qSitEB1C4QYk",
    "outputId": "e82203c3-768f-4dcd-870e-8c6d300bc6dc"
   },
   "outputs": [
    {
     "data": {
      "text/plain": [
       "array([0, 2, 4, 6, 3, 5, 1])"
      ]
     },
     "execution_count": 6,
     "metadata": {
      "tags": []
     },
     "output_type": "execute_result"
    }
   ],
   "source": [
    "df.emotion.unique()"
   ]
  },
  {
   "cell_type": "code",
   "execution_count": null,
   "metadata": {
    "colab": {
     "base_uri": "https://localhost:8080/"
    },
    "id": "KWPzb3iz44w6",
    "outputId": "a644e5d7-ab4b-460a-d5df-ea4e6bdc4b09"
   },
   "outputs": [
    {
     "data": {
      "text/plain": [
       "3    8989\n",
       "6    6198\n",
       "4    6077\n",
       "2    5121\n",
       "0    4953\n",
       "5    4002\n",
       "1     547\n",
       "Name: emotion, dtype: int64"
      ]
     },
     "execution_count": 7,
     "metadata": {
      "tags": []
     },
     "output_type": "execute_result"
    }
   ],
   "source": [
    "emotion_label_to_text = {0:'anger', 1:'disgust', 2:'fear', 3:'happiness', 4: 'sadness', 5: 'surprise', 6: 'neutral'}\n",
    "df.emotion.value_counts()"
   ]
  },
  {
   "cell_type": "code",
   "execution_count": null,
   "metadata": {
    "colab": {
     "base_uri": "https://localhost:8080/",
     "height": 279
    },
    "id": "uIX03n7x488P",
    "outputId": "74103862-d7d5-43bd-ed53-1c0ba1d558e3"
   },
   "outputs": [
    {
     "data": {
      "image/png": "[encoded data removed]",
      "text/plain": [
       "<Figure size 432x288 with 1 Axes>"
      ]
     },
     "metadata": {
      "needs_background": "light",
      "tags": []
     },
     "output_type": "display_data"
    }
   ],
   "source": [
    "sns.countplot(x = df.emotion)\n",
    "plt.show()"
   ]
  },
  {
   "cell_type": "code",
   "execution_count": null,
   "metadata": {
    "colab": {
     "base_uri": "https://localhost:8080/"
    },
    "id": "oyhnokD85qH0",
    "outputId": "5724a60f-e64a-4bd2-f8ff-9f5c6138c1eb"
   },
   "outputs": [
    {
     "name": "stdout",
     "output_type": "stream",
     "text": [
      "3 0\n",
      "6 2791\n",
      "4 2912\n",
      "2 3868\n",
      "0 4036\n",
      "5 4987\n",
      "1 8442\n"
     ]
    }
   ],
   "source": [
    "def augment_pixels(px, IMG_SIZE = 48):\n",
    "    image = np.array(px.split(' ')).reshape(IMG_SIZE, IMG_SIZE).astype('float32')\n",
    "    image = tf.image.random_flip_left_right(image.reshape(IMG_SIZE,IMG_SIZE,1))\n",
    "    # Pad image size\n",
    "    image = tf.image.resize_with_crop_or_pad(image, IMG_SIZE + 12, IMG_SIZE + 12) \n",
    "    # Random crop back to the original size\n",
    "    image = tf.image.random_crop(image, size=[IMG_SIZE, IMG_SIZE, 1])\n",
    "    image = tf.image.random_brightness(image, max_delta=0.5) # Random brightness\n",
    "    image = tf.clip_by_value(image, 0, 255)\n",
    "    augmented = image.numpy().reshape(IMG_SIZE,IMG_SIZE)\n",
    "    str_augmented = ' '.join(augmented.reshape(IMG_SIZE*IMG_SIZE).astype('int').astype(str))\n",
    "    return str_augmented\n",
    "\n",
    "valcounts = df.emotion.value_counts()\n",
    "valcounts_diff = valcounts[valcounts.idxmax()] - valcounts\n",
    "for emotion_idx, aug_count in valcounts_diff.iteritems():\n",
    "    sampled = df.query(\"emotion==@emotion_idx\").sample(aug_count, replace=True)\n",
    "    sampled['pixels'] = sampled.pixels.apply(augment_pixels)\n",
    "    df = pd.concat([df, sampled])\n",
    "    print(emotion_idx, aug_count)"
   ]
  },
  {
   "cell_type": "code",
   "execution_count": null,
   "metadata": {
    "colab": {
     "base_uri": "https://localhost:8080/",
     "height": 279
    },
    "id": "LWFhDws96PX2",
    "outputId": "8d56b79e-1994-4005-dcca-0f3633df209a"
   },
   "outputs": [
    {
     "data": {
      "image/png": "[encoded data removed]",
      "text/plain": [
       "<Figure size 432x288 with 1 Axes>"
      ]
     },
     "metadata": {
      "needs_background": "light",
      "tags": []
     },
     "output_type": "display_data"
    }
   ],
   "source": [
    "sns.countplot(x = df.emotion)\n",
    "plt.show()"
   ]
  },
  {
   "cell_type": "code",
   "execution_count": null,
   "metadata": {
    "id": "GGak-9uL6akr"
   },
   "outputs": [],
   "source": [
    "INTERESTED_LABELS = [0, 1, 2, 3, 4, 5, 6]"
   ]
  },
  {
   "cell_type": "code",
   "execution_count": null,
   "metadata": {
    "colab": {
     "base_uri": "https://localhost:8080/"
    },
    "id": "XRkTF0D16pL7",
    "outputId": "a9a88283-57cb-4285-86d1-0330b1ed84cc"
   },
   "outputs": [
    {
     "data": {
      "text/plain": [
       "(62923, 3)"
      ]
     },
     "execution_count": 12,
     "metadata": {
      "tags": []
     },
     "output_type": "execute_result"
    }
   ],
   "source": [
    "df = df[df.emotion.isin(INTERESTED_LABELS)]\n",
    "df.shape"
   ]
  },
  {
   "cell_type": "code",
   "execution_count": null,
   "metadata": {
    "id": "DZioSpr960j-"
   },
   "outputs": [],
   "source": [
    "img_array = df.pixels.apply(lambda x: np.array(x.split(' ')).reshape(48, 48, 1).astype('float32'))\n",
    "img_array = np.stack(img_array, axis=0)"
   ]
  },
  {
   "cell_type": "code",
   "execution_count": null,
   "metadata": {
    "colab": {
     "base_uri": "https://localhost:8080/"
    },
    "id": "CrbG1ATF6772",
    "outputId": "30420244-c957-42cb-b713-3314d4e71680"
   },
   "outputs": [
    {
     "data": {
      "text/plain": [
       "(62923, 48, 48, 1)"
      ]
     },
     "execution_count": 14,
     "metadata": {
      "tags": []
     },
     "output_type": "execute_result"
    }
   ],
   "source": [
    "img_array.shape"
   ]
  },
  {
   "cell_type": "code",
   "execution_count": null,
   "metadata": {
    "colab": {
     "base_uri": "https://localhost:8080/"
    },
    "id": "oADm6cOk7Clj",
    "outputId": "e4eb5fe2-3cdc-45eb-82b8-ee97a0527595"
   },
   "outputs": [
    {
     "data": {
      "text/plain": [
       "(62923, 7)"
      ]
     },
     "execution_count": 15,
     "metadata": {
      "tags": []
     },
     "output_type": "execute_result"
    }
   ],
   "source": [
    "le = LabelEncoder()\n",
    "img_labels = le.fit_transform(df.emotion)\n",
    "img_labels = np_utils.to_categorical(img_labels)\n",
    "img_labels.shape"
   ]
  },
  {
   "cell_type": "code",
   "execution_count": null,
   "metadata": {
    "colab": {
     "base_uri": "https://localhost:8080/"
    },
    "id": "qoXK1i207joW",
    "outputId": "eee35917-aaa1-4972-e1ff-2f074e2f6adc"
   },
   "outputs": [
    {
     "name": "stdout",
     "output_type": "stream",
     "text": [
      "{0: 0, 1: 1, 2: 2, 3: 3, 4: 4, 5: 5, 6: 6}\n"
     ]
    }
   ],
   "source": [
    "le_name_mapping = dict(zip(le.classes_, le.transform(le.classes_)))\n",
    "print(le_name_mapping)"
   ]
  },
  {
   "cell_type": "code",
   "execution_count": null,
   "metadata": {
    "colab": {
     "base_uri": "https://localhost:8080/"
    },
    "id": "71lOlNjH7nRg",
    "outputId": "7182b7cb-4034-4d57-d965-4ba73af3edf5"
   },
   "outputs": [
    {
     "data": {
      "text/plain": [
       "((56630, 48, 48, 1), (6293, 48, 48, 1), (56630, 7), (6293, 7))"
      ]
     },
     "execution_count": 17,
     "metadata": {
      "tags": []
     },
     "output_type": "execute_result"
    }
   ],
   "source": [
    "X_train, X_valid, y_train, y_valid = train_test_split(img_array, img_labels,\n",
    "                                                    shuffle=True, stratify=img_labels,\n",
    "                                                    test_size=0.1, random_state=42)\n",
    "X_train.shape, X_valid.shape, y_train.shape, y_valid.shape"
   ]
  },
  {
   "cell_type": "code",
   "execution_count": null,
   "metadata": {
    "id": "j9rQ6r807oUM"
   },
   "outputs": [],
   "source": [
    "# Normalizing results, as neural networks are very sensitive to unnormalized data.\n",
    "X_train = X_train / 255.\n",
    "X_valid = X_valid / 255."
   ]
  },
  {
   "cell_type": "code",
   "execution_count": null,
   "metadata": {
    "id": "klefvoqe72Kj"
   },
   "outputs": [],
   "source": [
    "from keras.models import Sequential\n",
    "from keras.layers import Dense , Activation , Dropout ,Flatten\n",
    "from keras.layers.convolutional import Conv2D\n",
    "from keras.layers.convolutional import MaxPooling2D\n",
    "from keras.metrics import categorical_accuracy\n",
    "from keras.models import model_from_json\n",
    "from keras.callbacks import ModelCheckpoint\n",
    "from keras.optimizers import *\n",
    "from keras.layers.normalization import BatchNormalization"
   ]
  },
  {
   "cell_type": "code",
   "execution_count": null,
   "metadata": {
    "colab": {
     "base_uri": "https://localhost:8080/"
    },
    "id": "F8afo3sZ8ONS",
    "outputId": "1bdecad8-ed6d-4f56-8400-9289e481f06d"
   },
   "outputs": [
    {
     "name": "stdout",
     "output_type": "stream",
     "text": [
      "Model: \"sequential\"\n",
      "_________________________________________________________________\n",
      "Layer (type)                 Output Shape              Param #   \n",
      "=================================================================\n",
      "conv2d (Conv2D)              (None, 48, 48, 64)        1664      \n",
      "_________________________________________________________________\n",
      "conv2d_1 (Conv2D)            (None, 48, 48, 64)        102464    \n",
      "_________________________________________________________________\n",
      "batch_normalization (BatchNo (None, 48, 48, 64)        256       \n",
      "_________________________________________________________________\n",
      "max_pooling2d (MaxPooling2D) (None, 24, 24, 64)        0         \n",
      "_________________________________________________________________\n",
      "conv2d_2 (Conv2D)            (None, 24, 24, 128)       204928    \n",
      "_________________________________________________________________\n",
      "conv2d_3 (Conv2D)            (None, 24, 24, 128)       409728    \n",
      "_________________________________________________________________\n",
      "batch_normalization_1 (Batch (None, 24, 24, 128)       512       \n",
      "_________________________________________________________________\n",
      "max_pooling2d_1 (MaxPooling2 (None, 12, 12, 128)       0         \n",
      "_________________________________________________________________\n",
      "conv2d_4 (Conv2D)            (None, 12, 12, 256)       295168    \n",
      "_________________________________________________________________\n",
      "conv2d_5 (Conv2D)            (None, 12, 12, 256)       590080    \n",
      "_________________________________________________________________\n",
      "batch_normalization_2 (Batch (None, 12, 12, 256)       1024      \n",
      "_________________________________________________________________\n",
      "max_pooling2d_2 (MaxPooling2 (None, 6, 6, 256)         0         \n",
      "_________________________________________________________________\n",
      "flatten (Flatten)            (None, 9216)              0         \n",
      "_________________________________________________________________\n",
      "dense (Dense)                (None, 128)               1179776   \n",
      "_________________________________________________________________\n",
      "batch_normalization_3 (Batch (None, 128)               512       \n",
      "_________________________________________________________________\n",
      "activation (Activation)      (None, 128)               0         \n",
      "_________________________________________________________________\n",
      "dropout (Dropout)            (None, 128)               0         \n",
      "_________________________________________________________________\n",
      "dense_1 (Dense)              (None, 7)                 903       \n",
      "_________________________________________________________________\n",
      "activation_1 (Activation)    (None, 7)                 0         \n",
      "=================================================================\n",
      "Total params: 2,787,015\n",
      "Trainable params: 2,785,863\n",
      "Non-trainable params: 1,152\n",
      "_________________________________________________________________\n"
     ]
    }
   ],
   "source": [
    "def my_model():\n",
    "    model = Sequential()\n",
    "    input_shape = (48,48,1)\n",
    "    model.add(Conv2D(64, (5, 5), input_shape=input_shape,activation='elu', padding='same'))\n",
    "    model.add(Conv2D(64, (5, 5), activation='elu', padding='same'))\n",
    "    model.add(BatchNormalization())\n",
    "    model.add(MaxPooling2D(pool_size=(2, 2)))\n",
    "\n",
    "    model.add(Conv2D(128, (5, 5),activation='elu',padding='same'))\n",
    "    model.add(Conv2D(128, (5, 5),activation='elu',padding='same'))\n",
    "    model.add(BatchNormalization())\n",
    "    model.add(MaxPooling2D(pool_size=(2, 2)))\n",
    "\n",
    "    model.add(Conv2D(256, (3, 3),activation='elu',padding='same'))\n",
    "    model.add(Conv2D(256, (3, 3),activation='elu',padding='same'))\n",
    "    model.add(BatchNormalization())\n",
    "    model.add(MaxPooling2D(pool_size=(2, 2)))\n",
    "\n",
    "    model.add(Flatten())\n",
    "    model.add(Dense(128))\n",
    "    model.add(BatchNormalization())\n",
    "    model.add(Activation('elu'))\n",
    "    model.add(Dropout(0.2))\n",
    "    model.add(Dense(7))\n",
    "    model.add(Activation('softmax'))\n",
    "    \n",
    "    model.compile(loss='categorical_crossentropy', metrics=['accuracy'],optimizer='nadam')\n",
    "    # UNCOMMENT THIS TO VIEW THE ARCHITECTURE\n",
    "    #model.summary()\n",
    "    \n",
    "    return model\n",
    "model=my_model()\n",
    "model.summary()"
   ]
  },
  {
   "cell_type": "code",
   "execution_count": null,
   "metadata": {
    "colab": {
     "base_uri": "https://localhost:8080/"
    },
    "id": "F3t3LfOz8SW_",
    "outputId": "188af3ba-1048-4288-c54e-dddab33d4fb4"
   },
   "outputs": [
    {
     "name": "stdout",
     "output_type": "stream",
     "text": [
      "Epoch 1/50\n",
      "885/885 [==============================] - 73s 43ms/step - loss: 1.7415 - accuracy: 0.3576 - val_loss: 1.3089 - val_accuracy: 0.5273\n",
      "Epoch 2/50\n",
      "885/885 [==============================] - 37s 42ms/step - loss: 1.1231 - accuracy: 0.5759 - val_loss: 1.1431 - val_accuracy: 0.5697\n",
      "Epoch 3/50\n",
      "885/885 [==============================] - 38s 42ms/step - loss: 0.9253 - accuracy: 0.6535 - val_loss: 0.9815 - val_accuracy: 0.6280\n",
      "Epoch 4/50\n",
      "885/885 [==============================] - 37s 42ms/step - loss: 0.7825 - accuracy: 0.7100 - val_loss: 1.1272 - val_accuracy: 0.5840\n",
      "Epoch 5/50\n",
      "885/885 [==============================] - 37s 42ms/step - loss: 0.6412 - accuracy: 0.7632 - val_loss: 1.0198 - val_accuracy: 0.6383\n",
      "Epoch 6/50\n",
      "885/885 [==============================] - 37s 42ms/step - loss: 0.4900 - accuracy: 0.8232 - val_loss: 1.1305 - val_accuracy: 0.6296\n",
      "Epoch 7/50\n",
      "885/885 [==============================] - 37s 42ms/step - loss: 0.3471 - accuracy: 0.8786 - val_loss: 1.1488 - val_accuracy: 0.6633\n",
      "Epoch 8/50\n",
      "885/885 [==============================] - 37s 42ms/step - loss: 0.2354 - accuracy: 0.9193 - val_loss: 1.2927 - val_accuracy: 0.6533\n",
      "Epoch 9/50\n",
      "885/885 [==============================] - 37s 42ms/step - loss: 0.1752 - accuracy: 0.9400 - val_loss: 1.2561 - val_accuracy: 0.6819\n",
      "Epoch 10/50\n",
      "885/885 [==============================] - 38s 42ms/step - loss: 0.1307 - accuracy: 0.9573 - val_loss: 1.3948 - val_accuracy: 0.6615\n",
      "Epoch 11/50\n",
      "885/885 [==============================] - 37s 42ms/step - loss: 0.1233 - accuracy: 0.9571 - val_loss: 1.6248 - val_accuracy: 0.6560\n",
      "Epoch 12/50\n",
      "885/885 [==============================] - 37s 42ms/step - loss: 0.1030 - accuracy: 0.9655 - val_loss: 1.6418 - val_accuracy: 0.6754\n",
      "Epoch 13/50\n",
      "885/885 [==============================] - 37s 42ms/step - loss: 0.1017 - accuracy: 0.9658 - val_loss: 1.6227 - val_accuracy: 0.6587\n",
      "Epoch 14/50\n",
      "885/885 [==============================] - 38s 42ms/step - loss: 0.0825 - accuracy: 0.9737 - val_loss: 1.6013 - val_accuracy: 0.6676\n",
      "Epoch 15/50\n",
      "885/885 [==============================] - 37s 42ms/step - loss: 0.0811 - accuracy: 0.9730 - val_loss: 1.6243 - val_accuracy: 0.6822\n",
      "Epoch 16/50\n",
      "885/885 [==============================] - 37s 42ms/step - loss: 0.0767 - accuracy: 0.9741 - val_loss: 1.8374 - val_accuracy: 0.6766\n",
      "Epoch 17/50\n",
      "885/885 [==============================] - 37s 42ms/step - loss: 0.0774 - accuracy: 0.9740 - val_loss: 1.7671 - val_accuracy: 0.6765\n",
      "Epoch 18/50\n",
      "885/885 [==============================] - 37s 42ms/step - loss: 0.0742 - accuracy: 0.9758 - val_loss: 1.7752 - val_accuracy: 0.6727\n",
      "Epoch 19/50\n",
      "885/885 [==============================] - 37s 42ms/step - loss: 0.0616 - accuracy: 0.9793 - val_loss: 1.7990 - val_accuracy: 0.6825\n",
      "Epoch 20/50\n",
      "885/885 [==============================] - 37s 42ms/step - loss: 0.0627 - accuracy: 0.9790 - val_loss: 1.7199 - val_accuracy: 0.6865\n",
      "Epoch 21/50\n",
      "885/885 [==============================] - 38s 42ms/step - loss: 0.0554 - accuracy: 0.9818 - val_loss: 1.8403 - val_accuracy: 0.6738\n",
      "Epoch 22/50\n",
      "885/885 [==============================] - 38s 42ms/step - loss: 0.0595 - accuracy: 0.9796 - val_loss: 1.9706 - val_accuracy: 0.6855\n",
      "Epoch 23/50\n",
      "885/885 [==============================] - 37s 42ms/step - loss: 0.0586 - accuracy: 0.9805 - val_loss: 1.9096 - val_accuracy: 0.6727\n",
      "Epoch 24/50\n",
      "885/885 [==============================] - 37s 42ms/step - loss: 0.0557 - accuracy: 0.9813 - val_loss: 1.8417 - val_accuracy: 0.6757\n",
      "Epoch 25/50\n",
      "885/885 [==============================] - 37s 42ms/step - loss: 0.0518 - accuracy: 0.9828 - val_loss: 1.9482 - val_accuracy: 0.6847\n",
      "Epoch 26/50\n",
      "885/885 [==============================] - 37s 42ms/step - loss: 0.0459 - accuracy: 0.9849 - val_loss: 1.9628 - val_accuracy: 0.6817\n",
      "Epoch 27/50\n",
      "885/885 [==============================] - 37s 42ms/step - loss: 0.0509 - accuracy: 0.9829 - val_loss: 1.9738 - val_accuracy: 0.6714\n",
      "Epoch 28/50\n",
      "885/885 [==============================] - 37s 42ms/step - loss: 0.0455 - accuracy: 0.9844 - val_loss: 1.9886 - val_accuracy: 0.6823\n",
      "Epoch 29/50\n",
      "885/885 [==============================] - 37s 42ms/step - loss: 0.0420 - accuracy: 0.9861 - val_loss: 2.1107 - val_accuracy: 0.6796\n",
      "Epoch 30/50\n",
      "885/885 [==============================] - 37s 42ms/step - loss: 0.0424 - accuracy: 0.9859 - val_loss: 2.0664 - val_accuracy: 0.6881\n",
      "Epoch 31/50\n",
      "885/885 [==============================] - 37s 42ms/step - loss: 0.0358 - accuracy: 0.9883 - val_loss: 2.0607 - val_accuracy: 0.6885\n",
      "Epoch 32/50\n",
      "885/885 [==============================] - 37s 42ms/step - loss: 0.0436 - accuracy: 0.9856 - val_loss: 2.1692 - val_accuracy: 0.6661\n",
      "Epoch 33/50\n",
      "885/885 [==============================] - 37s 42ms/step - loss: 0.0419 - accuracy: 0.9851 - val_loss: 2.0496 - val_accuracy: 0.6860\n",
      "Epoch 34/50\n",
      "885/885 [==============================] - 37s 42ms/step - loss: 0.0338 - accuracy: 0.9884 - val_loss: 2.2222 - val_accuracy: 0.6727\n",
      "Epoch 35/50\n",
      "885/885 [==============================] - 37s 42ms/step - loss: 0.0405 - accuracy: 0.9866 - val_loss: 2.2118 - val_accuracy: 0.6846\n",
      "Epoch 36/50\n",
      "885/885 [==============================] - 37s 42ms/step - loss: 0.0368 - accuracy: 0.9864 - val_loss: 2.0381 - val_accuracy: 0.6820\n",
      "Epoch 37/50\n",
      "885/885 [==============================] - 37s 42ms/step - loss: 0.0317 - accuracy: 0.9894 - val_loss: 2.1975 - val_accuracy: 0.6774\n",
      "Epoch 38/50\n",
      "885/885 [==============================] - 37s 42ms/step - loss: 0.0344 - accuracy: 0.9888 - val_loss: 2.0794 - val_accuracy: 0.6870\n",
      "Epoch 39/50\n",
      "885/885 [==============================] - 37s 42ms/step - loss: 0.0335 - accuracy: 0.9885 - val_loss: 2.1739 - val_accuracy: 0.6970\n",
      "Epoch 40/50\n",
      "885/885 [==============================] - 37s 42ms/step - loss: 0.0318 - accuracy: 0.9891 - val_loss: 2.0757 - val_accuracy: 0.6741\n",
      "Epoch 41/50\n",
      "885/885 [==============================] - 37s 42ms/step - loss: 0.0312 - accuracy: 0.9895 - val_loss: 2.2642 - val_accuracy: 0.6855\n",
      "Epoch 42/50\n",
      "885/885 [==============================] - 37s 42ms/step - loss: 0.0322 - accuracy: 0.9891 - val_loss: 2.1832 - val_accuracy: 0.6860\n",
      "Epoch 43/50\n",
      "885/885 [==============================] - 37s 42ms/step - loss: 0.0335 - accuracy: 0.9890 - val_loss: 2.0158 - val_accuracy: 0.6876\n",
      "Epoch 44/50\n",
      "885/885 [==============================] - 37s 42ms/step - loss: 0.0311 - accuracy: 0.9898 - val_loss: 2.0995 - val_accuracy: 0.6858\n",
      "Epoch 45/50\n",
      "885/885 [==============================] - 37s 42ms/step - loss: 0.0269 - accuracy: 0.9904 - val_loss: 2.2245 - val_accuracy: 0.6919\n",
      "Epoch 46/50\n",
      "885/885 [==============================] - 37s 42ms/step - loss: 0.0267 - accuracy: 0.9904 - val_loss: 2.3073 - val_accuracy: 0.6860\n",
      "Epoch 47/50\n",
      "885/885 [==============================] - 37s 42ms/step - loss: 0.0339 - accuracy: 0.9884 - val_loss: 2.1212 - val_accuracy: 0.6890\n",
      "Epoch 48/50\n",
      "885/885 [==============================] - 37s 42ms/step - loss: 0.0257 - accuracy: 0.9915 - val_loss: 2.3012 - val_accuracy: 0.6887\n",
      "Epoch 49/50\n",
      "885/885 [==============================] - 37s 42ms/step - loss: 0.0263 - accuracy: 0.9907 - val_loss: 2.2666 - val_accuracy: 0.6898\n",
      "Epoch 50/50\n",
      "885/885 [==============================] - 37s 42ms/step - loss: 0.0289 - accuracy: 0.9898 - val_loss: 2.2886 - val_accuracy: 0.6895\n"
     ]
    }
   ],
   "source": [
    "path_model='model_filter_2.h5' # save model at this location after each epoch\n",
    "from keras import backend as K\n",
    "K.clear_session() # destroys the current graph and builds a new one\n",
    "model=my_model() # create the model\n",
    "K.set_value(model.optimizer.lr,1e-3) # set the learning rate\n",
    "# fit the model\n",
    "h=model.fit(x=X_train,     \n",
    "            y=y_train, \n",
    "            batch_size=64, \n",
    "            epochs=50, \n",
    "            verbose=1, \n",
    "            validation_data=(X_valid,y_valid),\n",
    "            shuffle=True,\n",
    "            callbacks=[\n",
    "                ModelCheckpoint(filepath=path_model),\n",
    "            ]\n",
    "            )"
   ]
  },
  {
   "cell_type": "markdown",
   "metadata": {
    "id": "Bwbupgb1TJSl"
   },
   "source": [
    " **Expression Prediction**"
   ]
  },
  {
   "cell_type": "code",
   "execution_count": null,
   "metadata": {
    "colab": {
     "base_uri": "https://localhost:8080/"
    },
    "id": "1tBNZBNcHSWV",
    "outputId": "0e6276ce-1666-40b4-f567-61f8439ccbe6"
   },
   "outputs": [
    {
     "name": "stdout",
     "output_type": "stream",
     "text": [
      "[0 1 2 3 4 5 6]\n"
     ]
    }
   ],
   "source": [
    "objects = ('angry', 'disgust', 'fear', 'happy', 'sad', 'surprise', 'neutral')\n",
    "y_pos = np.arange(len(objects))\n",
    "print(y_pos)"
   ]
  },
  {
   "cell_type": "code",
   "execution_count": null,
   "metadata": {
    "id": "vBaB8S2lHUDl"
   },
   "outputs": [],
   "source": [
    "def emotion_analysis(emotions):\n",
    "    objects = ['angry', 'disgust', 'fear', 'happy', 'sad', 'surprise', 'neutral']\n",
    "    y_pos = np.arange(len(objects))\n",
    "    plt.bar(y_pos, emotions, align='center', alpha=0.9)\n",
    "    plt.tick_params(axis='x', which='both', pad=10,width=4,length=10)\n",
    "    plt.xticks(y_pos, objects)\n",
    "    plt.ylabel('percentage')\n",
    "    plt.title('emotion')\n",
    "    \n",
    "plt.show()"
   ]
  },
  {
   "cell_type": "code",
   "execution_count": null,
   "metadata": {
    "id": "7ZPfK2LhSUYq"
   },
   "outputs": [],
   "source": [
    "model = tf.keras.models.load_model('model_filter_1.h5')"
   ]
  },
  {
   "cell_type": "code",
   "execution_count": null,
   "metadata": {
    "colab": {
     "base_uri": "https://localhost:8080/",
     "height": 312
    },
    "id": "ExyixlkLFml0",
    "outputId": "6db1b584-727e-4bb2-9799-13c6cf7a0919"
   },
   "outputs": [
    {
     "data": {
      "image/png": "[encoded data removed]",
      "text/plain": [
       "<Figure size 432x288 with 1 Axes>"
      ]
     },
     "metadata": {
      "needs_background": "light",
      "tags": []
     },
     "output_type": "display_data"
    },
    {
     "name": "stdout",
     "output_type": "stream",
     "text": [
      "Expression Prediction: sad\n"
     ]
    }
   ],
   "source": [
    "from skimage import io\n",
    "img = image.load_img('/content/drive/My Drive/Kaggle/sad_2.jpg', color_mode = \"grayscale\", target_size=(48, 48))\n",
    "show_img=image.load_img('/content/drive/My Drive/Kaggle/sad_2.jpg', color_mode = \"rgb\", target_size=(200, 200))\n",
    "x = image.img_to_array(img)\n",
    "x = np.expand_dims(x, axis = 0)\n",
    "\n",
    "x /= 255\n",
    "\n",
    "custom = model.predict(x)\n",
    "#print(custom[0])\n",
    "emotion_analysis(custom[0])\n",
    "\n",
    "x = np.array(x, 'float32')\n",
    "x = x.reshape([48, 48]);\n",
    "\n",
    "#plt.gray()\n",
    "#plt.imshow(show_img)\n",
    "plt.show()\n",
    "\n",
    "m=0.000000000000000000001\n",
    "a=custom[0]\n",
    "for i in range(0,len(a)):\n",
    "    if a[i]>m:\n",
    "        m=a[i]\n",
    "        ind=i\n",
    "        \n",
    "print('Expression Prediction:',objects[ind])"
   ]
  },
  {
   "cell_type": "code",
   "execution_count": null,
   "metadata": {
    "colab": {
     "base_uri": "https://localhost:8080/",
     "height": 287
    },
    "id": "GAB3Vn8SjvaF",
    "outputId": "52c2e95c-f896-416a-d201-a52a6c3690cd"
   },
   "outputs": [
    {
     "data": {
      "text/plain": [
       "<matplotlib.image.AxesImage at 0x7f9f91abf790>"
      ]
     },
     "execution_count": 9,
     "metadata": {
      "tags": []
     },
     "output_type": "execute_result"
    },
    {
     "data": {
      "image/png": "[encoded data removed]",
      "text/plain": [
       "<Figure size 432x288 with 1 Axes>"
      ]
     },
     "metadata": {
      "needs_background": "light",
      "tags": []
     },
     "output_type": "display_data"
    }
   ],
   "source": [
    "plt.imshow(show_img)"
   ]
  }
 ],
 "metadata": {
  "accelerator": "GPU",
  "colab": {
   "collapsed_sections": [],
   "name": "FacialExpression_1.ipynb",
   "provenance": []
  },
  "kernelspec": {
   "display_name": "Python 3",
   "language": "python",
   "name": "python3"
  },
  "language_info": {
   "codemirror_mode": {
    "name": "ipython",
    "version": 3
   },
   "file_extension": ".py",
   "mimetype": "text/x-python",
   "name": "python",
   "nbconvert_exporter": "python",
   "pygments_lexer": "ipython3",
   "version": "3.6.13"
  }
 },
 "nbformat": 4,
 "nbformat_minor": 1
}
